{
 "cells": [
  {
   "cell_type": "markdown",
   "metadata": {},
   "source": [
    "<img style=\"float: right; margin: 0px 0px 15px 15px;\" src=\"https://upload.wikimedia.org/wikipedia/commons/b/b6/Proyecto_en_construccion.jpg\" width=\"300px\" height=\"100px\" />\n",
    "\n",
    "\n",
    "# Proyecto Módulo 3 - Guía.\n",
    "> Se especifican los componentes básicos que deberá tener cada proyecto. El proyecto debe ser un problema que se pueda modelar con un sistema de ecuaciones diferenciales, o bien ecuaciones en diferencias (como quiera, algo dinámico)."
   ]
  },
  {
   "cell_type": "markdown",
   "metadata": {},
   "source": [
    "___\n",
    "## 1. Entregable.\n",
    "Los trabajos deben tener los siguientes componentes básicos.\n",
    "\n",
    "### 1.1 Título del trabajo.\n",
    "> Debe describir el trabajo.\n",
    "\n",
    "### 1.2 Objetivos.\n",
    "> - Se refieren a los propósitos por los cuales se hace el trabajo.\n",
    "> - Deben ser concretos, evaluables y verificables.\n",
    "> - Deben ser escritos en infinitivo.\n",
    "> #### 1.1 Objetivo general.\n",
    ">  - Fin último de estudio. Se formula atendiendo el propósito global del trabajo. No presenta detalles.\n",
    ">  - Se orienta a la totalidad del trabajo. Tiene que ver con el título del trabajo.\n",
    "> #### 1.2 Objetivos específicos\n",
    ">  - De forma detallada describen cada una de los componentes del trabajo.\n",
    ">  - En conjunto garantizan la consecución del objetivo general.\n",
    "\n",
    "Referencia:\n",
    "- https://es.slideshare.net/rosbur/metodologia-objetivos-generales-y-especficos\n",
    "\n",
    "### 1.3 Modelo que representa el problema.\n",
    "> - Se debe incluir las ecuaciones dinámicas que modelan el problema (conjunto de ecuaciones diferenciales).\n",
    "> - Deducción del modelo. Explicación usando los fenómenos que involucre el problema (por ejemplo: leyes de Newton, conservación de energía y de materia, capitalización compuesta, etcétera).\n",
    "> - ¿Qué situación representa el modelo? ¿Cuáles son las limitaciones fundamentales?\n",
    "> - Significado y valor de los parámetros (constantes que aparezcan en el modelo).\n",
    "\n",
    "### 1.4 Simulaciones.\n",
    "> - Se debe simular para un conjunto representativo de condiciones iniciales (las condiciones iniciales deben tener sentido).\n",
    "\n",
    "### 1.5 Visualización de resultados de simulación.\n",
    "> Se deben mostrar gráficas que ilustren de forma adecuada los resultados de simulación. No olviden etiquetar los ejes y si se tienen varias curvas en una sola gráfica también etiquetarlas (ojo: que las curvas se puedan diferenciar).\n",
    "\n",
    "### 1.6 Conclusiones.\n",
    "> Mucho cuidado, las conclusiones no son cualquier cosa. Se debe concluir respecto a los objetivos planteados de acuerdo a los resultados obtenidos.\n",
    "\n",
    "### 1.7 Referencias.\n",
    "> Citar (en formato APA) la bibliografía utilizada."
   ]
  },
  {
   "cell_type": "markdown",
   "metadata": {},
   "source": [
    "___\n",
    "## 2. Especificaciones adicionales.\n",
    "En el grupo deben haber mínimo dos integrantes y máximo tres integrantes. Para propósitos logísticos nada más, por favor enumérense como *integrante 1*, *integrante 2* e *integrante 3*.\n",
    "\n",
    "### 2.1 Notebook de jupyter. \n",
    "> Los anteriores numerales los deben desarrollar todos en un notebook de jupyter y llamarlo de la siguiente manera `ProyectoModulo3_ApellidoN1_ApellidoN2_ApellidoN3`, donde `ApellidoNi` hace referencia al apellido paterno y la inicial del primer nombre del integrante `i`.\n",
    "\n",
    "### 2.2 Presentación.\n",
    "> Recuerden que la nota del proyecto es mitad el trabajo, y mitad la presentación. Deben hacer una presentación en power point para presentar el trabajo en la clase del **Viernes 4 de Diciembre (G2) - Lunes 7 de Diciembre (G1).** La presentación, además de llevar todos los componentes básicos descritos en el entregable, debe llevar una tabla de contenido.\n",
    "> - Presentación: 10 minutos.\n",
    "> - Seguir estas recomendaciones: https://es.slideshare.net/MeireComputacion/power-point-pautas-para-una-buen-trabajo"
   ]
  },
  {
   "cell_type": "markdown",
   "metadata": {},
   "source": [
    "Problema: Un tanque de agua cúbico de 10 ft. de largo, ancho y alto se drena por un orificio circular An en el fondo. Al salir, la fricción y contracción reducen el volumen desalojado por segundo a $cA_h\\sqrt{2gh}$ siendo c una constante. Tenemos que determinar una ecuación diferencial para la altura h en función del tiempo. El radio del hoyo es de 4 pulgadas, $ g=32ft/s^2 $"
   ]
  },
  {
   "cell_type": "markdown",
   "metadata": {},
   "source": [
    "Sabemos que el volumen de un cubo es $ V = Awh $"
   ]
  },
  {
   "cell_type": "markdown",
   "metadata": {},
   "source": [
    "Ubicamos las variables y constantes, las variables de diferencia respecto al tiempo $\\frac{dv}{dt} = Aw\\frac{dh}{dt}$"
   ]
  },
  {
   "cell_type": "markdown",
   "metadata": {},
   "source": [
    "Despejamos respecto a lo que se pide: $\\frac{dh}{dt} = \\frac{dv}{dt} = \\frac{1}{Aw}$\n",
    "$\\rightarrow$\t$\\frac{dh}{dt} = \\frac{1}{Aw} = (-cAh\\sqrt{2gh})$ $\\rightarrow$ $\\frac{dh}{dt} = -\\frac{cAh}{Aw}\\sqrt{2gh}$"
   ]
  },
  {
   "cell_type": "markdown",
   "metadata": {},
   "source": [
    "Unidades\n",
    "- $4in = \\frac{4}{12}ft = \\frac{1}{3}ft$\n",
    "- $Ah = \\pi(\\frac{4}{12})^2 =Ah = \\pi(\\frac{1}{9}) $"
   ]
  },
  {
   "cell_type": "markdown",
   "metadata": {},
   "source": [
    "Sustituimos unidades:\n",
    "- $$\\frac{dh}{dt} = -\\frac{c(\\pi)(\\frac{1}{9})}{100}\\sqrt{2(32)h}$$\n",
    "- \n",
    "- $$\\frac{dh}{dt} = -\\frac{c\\pi}{900}*8\\sqrt{h}$$\n",
    "- \n",
    "- $$\\frac{dh}{dt} = -\\frac{2\\pi*c}{225}\\sqrt{h}$$\n"
   ]
  },
  {
   "cell_type": "markdown",
   "metadata": {},
   "source": [
    "Finalmente nos queda nuestra función: \n",
    "$$\\frac{dh}{dt} = \\frac{-2\\pi .032\n",
    "}{225} \\sqrt{h}$$"
   ]
  },
  {
   "cell_type": "code",
   "execution_count": 2,
   "metadata": {},
   "outputs": [],
   "source": [
    "import matplotlib.pyplot as plt\n",
    "import numpy as np"
   ]
  },
  {
   "cell_type": "code",
   "execution_count": 11,
   "metadata": {},
   "outputs": [],
   "source": [
    "#definir función de agua\n",
    "def agua(h,c):\n",
    "    return (-2*np.pi*c*np.sqrt(h))/225"
   ]
  },
  {
   "cell_type": "code",
   "execution_count": 15,
   "metadata": {},
   "outputs": [],
   "source": [
    "#Variables de la función\n",
    "c = 0.032\n",
    "h = np.linspace(0,10)\n",
    "y = agua(h,c)"
   ]
  },
  {
   "cell_type": "code",
   "execution_count": 19,
   "metadata": {},
   "outputs": [],
   "source": [
    "# Función para integración numérica\n",
    "from scipy.integrate import odeint"
   ]
  },
  {
   "cell_type": "code",
   "execution_count": 14,
   "metadata": {},
   "outputs": [
    {
     "name": "stderr",
     "output_type": "stream",
     "text": [
      "/var/folders/v3/pkg_ygfj5px_42h8t372v4900000gn/T/ipykernel_16417/1344953057.py:2: RuntimeWarning: invalid value encountered in sqrt\n",
      "  return (-2*np.pi*c*np.sqrt(h))/225\n"
     ]
    }
   ],
   "source": [
    "def agua(h,t,r):\n",
    "    return (-2*np.pi*c*np.sqrt(h))/225\n",
    "#constante\n",
    "c= 90\n",
    "#altura inicial del agua dentro de la sister\n",
    "h0 = 10\n",
    "#tiempo\n",
    "t = np.linspace(0,15)\n",
    "# lo mismo que H, \n",
    "h = odeint(agua,h0,t,args=(c,))"
   ]
  },
  {
   "cell_type": "code",
   "execution_count": 15,
   "metadata": {
    "scrolled": true
   },
   "outputs": [
    {
     "data": {
      "image/png": "[encoded data removed]",
      "text/plain": [
       "<Figure size 576x432 with 1 Axes>"
      ]
     },
     "metadata": {
      "needs_background": "light"
     },
     "output_type": "display_data"
    }
   ],
   "source": [
    "plt.figure(figsize=(8,6))\n",
    "plt.plot(t,h)\n",
    "plt.xlabel('tiempo')\n",
    "plt.ylabel('altura')\n",
    "plt.grid()\n",
    "plt.show()"
   ]
  },
  {
   "cell_type": "code",
   "execution_count": null,
   "metadata": {},
   "outputs": [],
   "source": [
    "#agregar litros que quedan por el tiempo \n",
    "#widget "
   ]
  },
  {
   "cell_type": "code",
   "execution_count": 7,
   "metadata": {},
   "outputs": [
    {
     "name": "stdout",
     "output_type": "stream",
     "text": [
      "Agregar largo: 6\n",
      "en la sisterna nos quedan 600.0 litros\n",
      "te queda 60.0 % de agua\n"
     ]
    }
   ],
   "source": [
    "#El usuario ingresará los datos de largo, ancho y alto de la sisterna\n",
    "h= float(input('Agregar largo: '))\n",
    "\n",
    "#largo inicial del agua dentro de la sister\n",
    "w = 10\n",
    "\n",
    "#altura inicial del agua dentro de la sister\n",
    "l = 10\n",
    "\n",
    "litros_restantes = l * w * h\n",
    "print('en la sisterna nos quedan',litros_restantes,'litros')\n",
    "\n",
    "if litros_restantes >= 500:\n",
    "    print('te queda',(l*w*h)/10,'% de agua')\n",
    "else:\n",
    "    print('te queda',(l*w*h)/10,'% de agua, cuidado te queda poca agua')    \n",
    "\n",
    "\n",
    "\n",
    "\n",
    "    \n"
   ]
  },
  {
   "cell_type": "code",
   "execution_count": null,
   "metadata": {},
   "outputs": [],
   "source": []
  },
  {
   "cell_type": "code",
   "execution_count": null,
   "metadata": {},
   "outputs": [],
   "source": []
  }
 ],
 "metadata": {
  "kernelspec": {
   "display_name": "Python 3 (ipykernel)",
   "language": "python",
   "name": "python3"
  },
  "language_info": {
   "codemirror_mode": {
    "name": "ipython",
    "version": 3
   },
   "file_extension": ".py",
   "mimetype": "text/x-python",
   "name": "python",
   "nbconvert_exporter": "python",
   "pygments_lexer": "ipython3",
   "version": "3.9.12"
  }
 },
 "nbformat": 4,
 "nbformat_minor": 2
}
